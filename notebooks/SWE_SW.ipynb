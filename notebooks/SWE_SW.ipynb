{
 "cells": [
  {
   "cell_type": "code",
   "id": "initial_id",
   "metadata": {
    "collapsed": true,
    "ExecuteTime": {
     "end_time": "2024-11-07T15:08:31.877136Z",
     "start_time": "2024-11-07T15:01:52.639906Z"
    }
   },
   "source": [
    "import pandas as pd\n",
    "import xarray as xr\n",
    "\n",
    "# Paths to the files\n",
    "metadata_path = 'N:/gebhyd/3_Hyv/Diplomanden/2_Running/L_Nuesch/data_sweden/NH_SWE_METADATA_SWEDEN.csv'\n",
    "swe_matrix_path = 'N:/gebhyd/3_Hyv/Diplomanden/2_Running/L_Nuesch/data_sweden/NH_SWE_dataset_matrix_files/NH_SWE_matrix_SWE_mm.csv'\n",
    "nhsweid_vector_path = 'N:/gebhyd/3_Hyv/Diplomanden/2_Running/L_Nuesch/data_sweden/NH_SWE_dataset_matrix_files/NH_SWE_matrix_NHSWEID_vector.csv'\n",
    "date_vector_path = 'N:/gebhyd/3_Hyv/Diplomanden/2_Running/L_Nuesch/data_sweden/NH_SWE_dataset_matrix_files/NH_SWE_matrix_Date_vector.csv'\n",
    "\n",
    "# Step 1: Load the metadata with the correct delimiter and filter columns\n",
    "metadata = pd.read_csv(metadata_path, delimiter=';')\n",
    "metadata = metadata[['NHSWEID', 'LAT', 'LON']]\n",
    "metadata = metadata.set_index('NHSWEID')  # Set NHSWEID as index for easy filtering\n",
    "\n",
    "# Step 2: Load the SWE matrix and filter by stations in the metadata\n",
    "swe_matrix = pd.read_csv(swe_matrix_path, header=None)\n",
    "\n",
    "# Load the ID vector for the SWE matrix columns\n",
    "nhsweid_vector = pd.read_csv(nhsweid_vector_path, header=None, squeeze=True)\n",
    "\n",
    "# Filter the ID vector to get indices of relevant stations in the SWE matrix\n",
    "relevant_ids = nhsweid_vector.isin(metadata.index)\n",
    "filtered_swe_matrix = swe_matrix.loc[:, relevant_ids]\n",
    "\n",
    "# Filter metadata to match the relevant IDs in the same order as in nhsweid_vector\n",
    "filtered_metadata = metadata.loc[nhsweid_vector[relevant_ids].values]\n",
    "\n",
    "# Step 3: Load the date vector\n",
    "date_vector = pd.read_csv(date_vector_path, header=None, squeeze=True, parse_dates=[0])\n",
    "\n",
    "# Step 4: Create the xarray Dataset\n",
    "swe_data = xr.DataArray(\n",
    "    data=filtered_swe_matrix.values,\n",
    "    dims=[\"time\", \"Station_ID\"],\n",
    "    coords={\n",
    "        \"time\": date_vector,\n",
    "        \"Station_ID\": filtered_metadata.index.values\n",
    "    }\n",
    ")\n",
    "\n",
    "# Add latitude and longitude as coordinates\n",
    "swe_data = swe_data.assign_coords(\n",
    "    lon=(\"Station_ID\", filtered_metadata['LON'].values),\n",
    "    lat=(\"Station_ID\", filtered_metadata['LAT'].values)\n",
    ")\n",
    "\n",
    "# Step 5: Convert DataArray to Dataset\n",
    "swe_dataset = xr.Dataset({\"swe\": swe_data})\n",
    "\n",
    "# Verify the structure\n",
    "print(swe_dataset)\n"
   ],
   "outputs": [
    {
     "name": "stdout",
     "output_type": "stream",
     "text": [
      "<xarray.Dataset>\n",
      "Dimensions:     (Station_ID: 914, time: 26663)\n",
      "Coordinates:\n",
      "  * time        (time) datetime64[ns] 1949-09-01 1949-09-02 ... 2022-08-31\n",
      "  * Station_ID  (Station_ID) int64 10001 10002 10003 10004 ... 11469 11470 11471\n",
      "    lon         (Station_ID) float64 14.8 15.62 17.17 15.53 ... 17.9 11.7 14.22\n",
      "    lat         (Station_ID) float64 56.87 60.62 65.07 58.4 ... 60.2 58.98 58.58\n",
      "Data variables:\n",
      "    swe         (time, Station_ID) float64 0.0 0.0 0.0 0.0 ... nan nan nan 0.0\n"
     ]
    }
   ],
   "execution_count": 4
  },
  {
   "metadata": {
    "ExecuteTime": {
     "end_time": "2024-11-07T15:24:20.809537Z",
     "start_time": "2024-11-07T15:24:19.975744Z"
    }
   },
   "cell_type": "code",
   "source": [
    "swe_dataset = swe_dataset.rename({\"Station_ID\": \"station_id\"})\n",
    "swe_dataset.to_netcdf('../CAMELS_SW/input_data/SWE_SW.nc')"
   ],
   "id": "b81f42b038edef58",
   "outputs": [],
   "execution_count": 6
  },
  {
   "metadata": {},
   "cell_type": "code",
   "outputs": [],
   "execution_count": null,
   "source": "",
   "id": "6324c9ae4193e4ba"
  }
 ],
 "metadata": {
  "kernelspec": {
   "display_name": "Python 3",
   "language": "python",
   "name": "python3"
  },
  "language_info": {
   "codemirror_mode": {
    "name": "ipython",
    "version": 2
   },
   "file_extension": ".py",
   "mimetype": "text/x-python",
   "name": "python",
   "nbconvert_exporter": "python",
   "pygments_lexer": "ipython2",
   "version": "2.7.6"
  }
 },
 "nbformat": 4,
 "nbformat_minor": 5
}
